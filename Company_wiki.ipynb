{
 "cells": [
  {
   "cell_type": "code",
   "execution_count": 1,
   "id": "9ff69def",
   "metadata": {},
   "outputs": [],
   "source": [
    "from bs4 import BeautifulSoup\n",
    "import requests as re\n",
    "import pandas as pd\n",
    "import numpy as np"
   ]
  },
  {
   "cell_type": "code",
   "execution_count": 2,
   "id": "93243bbe",
   "metadata": {},
   "outputs": [],
   "source": [
    "url = 'https://en.wikipedia.org/wiki/List_of_largest_companies_in_the_United_States_by_revenue'"
   ]
  },
  {
   "cell_type": "code",
   "execution_count": 3,
   "id": "f53e9bf9",
   "metadata": {},
   "outputs": [
    {
     "data": {
      "text/plain": [
       "<Response [200]>"
      ]
     },
     "execution_count": 3,
     "metadata": {},
     "output_type": "execute_result"
    }
   ],
   "source": [
    "page = re.get(url)\n",
    "page\n",
    "# 200 is okay"
   ]
  },
  {
   "cell_type": "code",
   "execution_count": 4,
   "id": "0acf406d",
   "metadata": {},
   "outputs": [],
   "source": [
    "soup = BeautifulSoup(page.text,'html')\n",
    "# lấy text từ url, định dạng lại html từ Bs4\n"
   ]
  },
  {
   "cell_type": "code",
   "execution_count": 5,
   "id": "e165829b",
   "metadata": {},
   "outputs": [
    {
     "data": {
      "text/plain": [
       "bs4.BeautifulSoup"
      ]
     },
     "execution_count": 5,
     "metadata": {},
     "output_type": "execute_result"
    }
   ],
   "source": [
    "type(soup)"
   ]
  },
  {
   "cell_type": "markdown",
   "id": "f6ddcc74",
   "metadata": {},
   "source": [
    "Tìm table"
   ]
  },
  {
   "cell_type": "code",
   "execution_count": 6,
   "id": "9ad2421b",
   "metadata": {},
   "outputs": [],
   "source": [
    "table_1 = soup.find_all(\"table\", class_=\"wikitable sortable\")[0]\n",
    "# table_1\n",
    "# lấy ra bảng đầu tiên"
   ]
  },
  {
   "cell_type": "code",
   "execution_count": 7,
   "id": "5ccf7a0c",
   "metadata": {},
   "outputs": [
    {
     "data": {
      "text/plain": [
       "[<th>Rank\n",
       " </th>,\n",
       " <th>Name\n",
       " </th>,\n",
       " <th>Industry\n",
       " </th>,\n",
       " <th>Revenue <br/>(USD millions)\n",
       " </th>,\n",
       " <th>Revenue growth\n",
       " </th>,\n",
       " <th>Employees\n",
       " </th>,\n",
       " <th>Headquarters\n",
       " </th>]"
      ]
     },
     "execution_count": 7,
     "metadata": {},
     "output_type": "execute_result"
    }
   ],
   "source": [
    "# Columns của table nằm trong thẻ <th>\n",
    "# lọc hết thẻ <th> ra\n",
    "table_columns = table_1.find_all('th')\n",
    "table_columns"
   ]
  },
  {
   "cell_type": "code",
   "execution_count": 8,
   "id": "0bcd2cd2",
   "metadata": {},
   "outputs": [
    {
     "name": "stdout",
     "output_type": "stream",
     "text": [
      "Rank\n",
      "\n",
      "Name\n",
      "\n",
      "Industry\n",
      "\n",
      "Revenue (USD millions)\n",
      "\n",
      "Revenue growth\n",
      "\n",
      "Employees\n",
      "\n",
      "Headquarters\n",
      "\n"
     ]
    }
   ],
   "source": [
    "# lọc ra text trong list vừa lấy được\n",
    "for tile in table_columns:\n",
    "    print(tile.text)"
   ]
  },
  {
   "cell_type": "code",
   "execution_count": 9,
   "id": "9eae71f1",
   "metadata": {},
   "outputs": [
    {
     "data": {
      "text/plain": [
       "['Rank\\n',\n",
       " 'Name\\n',\n",
       " 'Industry\\n',\n",
       " 'Revenue (USD millions)\\n',\n",
       " 'Revenue growth\\n',\n",
       " 'Employees\\n',\n",
       " 'Headquarters\\n']"
      ]
     },
     "execution_count": 9,
     "metadata": {},
     "output_type": "execute_result"
    }
   ],
   "source": [
    "# Đã okay, viết hàm bỏ text vào list columns\n",
    "columns_tile = [tile.text for tile in table_columns]\n",
    "columns_tile"
   ]
  },
  {
   "cell_type": "code",
   "execution_count": 10,
   "id": "b194d047",
   "metadata": {},
   "outputs": [
    {
     "data": {
      "text/plain": [
       "['Rank',\n",
       " 'Name',\n",
       " 'Industry',\n",
       " 'Revenue (USD millions)',\n",
       " 'Revenue growth',\n",
       " 'Employees',\n",
       " 'Headquarters']"
      ]
     },
     "execution_count": 10,
     "metadata": {},
     "output_type": "execute_result"
    }
   ],
   "source": [
    "# bỏ phần xuống dòng đi\n",
    "columns_tile = [tile.text.strip() for tile in table_columns]\n",
    "columns_tile"
   ]
  },
  {
   "cell_type": "markdown",
   "id": "84979db3",
   "metadata": {},
   "source": [
    "***Lấy các row data"
   ]
  },
  {
   "cell_type": "code",
   "execution_count": 11,
   "id": "d5da9ba5",
   "metadata": {},
   "outputs": [],
   "source": [
    "table_row = table_1.find_all('tr')\n",
    "# Check nội dung row ngẫu nhiên\n",
    "# table_row[2]\n",
    "# mỗi row có chứa các cột data"
   ]
  },
  {
   "cell_type": "code",
   "execution_count": 12,
   "id": "ed761c9a",
   "metadata": {
    "scrolled": true
   },
   "outputs": [],
   "source": [
    "# # bỏ đi cột đầu tiên do nó là tiêu đề bảng : table_row[1:]\n",
    "# for row in table_row[1:]:\n",
    "#     # lấy ra từng row, tìm từng td, tạo thành list để phân biệt cho từng cột giá trị\n",
    "#     data_row = row.find_all('td')\n",
    "#     data = [data.text.strip() for data in data_row]\n",
    "#     print(data)\n",
    "    \n",
    "#     # thêm vào DataFrame, đếm số hàng của Frame để lấy index, tại index đó thêm data vào.\n",
    "#     len_dt = len(dt)\n",
    "#     dt.loc[len_dt]= data"
   ]
  },
  {
   "cell_type": "code",
   "execution_count": 13,
   "id": "73481e9d",
   "metadata": {},
   "outputs": [
    {
     "data": {
      "text/html": [
       "<div>\n",
       "<style scoped>\n",
       "    .dataframe tbody tr th:only-of-type {\n",
       "        vertical-align: middle;\n",
       "    }\n",
       "\n",
       "    .dataframe tbody tr th {\n",
       "        vertical-align: top;\n",
       "    }\n",
       "\n",
       "    .dataframe thead th {\n",
       "        text-align: right;\n",
       "    }\n",
       "</style>\n",
       "<table border=\"1\" class=\"dataframe\">\n",
       "  <thead>\n",
       "    <tr style=\"text-align: right;\">\n",
       "      <th></th>\n",
       "      <th>Rank</th>\n",
       "      <th>Name</th>\n",
       "      <th>Industry</th>\n",
       "      <th>Revenue (USD millions)</th>\n",
       "      <th>Revenue growth</th>\n",
       "      <th>Employees</th>\n",
       "      <th>Headquarters</th>\n",
       "    </tr>\n",
       "  </thead>\n",
       "  <tbody>\n",
       "  </tbody>\n",
       "</table>\n",
       "</div>"
      ],
      "text/plain": [
       "Empty DataFrame\n",
       "Columns: [Rank, Name, Industry, Revenue (USD millions), Revenue growth, Employees, Headquarters]\n",
       "Index: []"
      ]
     },
     "execution_count": 13,
     "metadata": {},
     "output_type": "execute_result"
    }
   ],
   "source": [
    "Data_Frame =pd.DataFrame(columns= columns_tile)\n",
    "Data_Frame"
   ]
  },
  {
   "cell_type": "code",
   "execution_count": 14,
   "id": "0f5cb751",
   "metadata": {},
   "outputs": [],
   "source": [
    "table_row = table_1.find_all('tr')"
   ]
  },
  {
   "cell_type": "code",
   "execution_count": 15,
   "id": "249f5dfd",
   "metadata": {},
   "outputs": [],
   "source": [
    "for row in table_row[1:]:\n",
    "    # lấy ra từng row, tìm từng td, tạo thành list để phân biệt cho từng cột giá trị\n",
    "    data_row = row.find_all('td')\n",
    "    data = [data.text.strip() for data in data_row]\n",
    "    \n",
    "    # data[3] và data[5] có dấu phẩy, bỏ đi để sau này đổi kiểu dữ liệu thành float.\n",
    "    data[3] = data[3].replace(',','')\n",
    "    data[5] = data[5].replace(',','')\n",
    "    \n",
    "    #data[4] là vị trí chứa giá trị % âm hoặc dương, bỏ dấu % cho dễ tính\n",
    "    data[4] = data[4].strip('%')\n",
    "    \n",
    "    # list chứa span có title là 'Decrease', nếu có 1 giá trị tức nó là dòng chứa giá trị âm\n",
    "    if len(data_row[4].find_all('span', {'title' : 'Decrease'}))==1:\n",
    "        # Thêm dấu âm vào text\n",
    "        data[4] = '-' + data[4]\n",
    "        # print(data[4])\n",
    "        \n",
    "    Data_Frame.loc[len(Data_Frame)]= data\n",
    "    \n",
    "  "
   ]
  },
  {
   "cell_type": "code",
   "execution_count": 16,
   "id": "ae0ce7fe",
   "metadata": {},
   "outputs": [
    {
     "data": {
      "text/html": [
       "<div>\n",
       "<style scoped>\n",
       "    .dataframe tbody tr th:only-of-type {\n",
       "        vertical-align: middle;\n",
       "    }\n",
       "\n",
       "    .dataframe tbody tr th {\n",
       "        vertical-align: top;\n",
       "    }\n",
       "\n",
       "    .dataframe thead th {\n",
       "        text-align: right;\n",
       "    }\n",
       "</style>\n",
       "<table border=\"1\" class=\"dataframe\">\n",
       "  <thead>\n",
       "    <tr style=\"text-align: right;\">\n",
       "      <th></th>\n",
       "      <th>Rank</th>\n",
       "      <th>Name</th>\n",
       "      <th>Industry</th>\n",
       "      <th>Revenue (USD millions)</th>\n",
       "      <th>Revenue growth</th>\n",
       "      <th>Employees</th>\n",
       "      <th>Headquarters</th>\n",
       "    </tr>\n",
       "  </thead>\n",
       "  <tbody>\n",
       "    <tr>\n",
       "      <th>26</th>\n",
       "      <td>27</td>\n",
       "      <td>Walgreens Boots Alliance</td>\n",
       "      <td>Pharmaceutical industry</td>\n",
       "      <td>132703</td>\n",
       "      <td>-10.7</td>\n",
       "      <td>262500</td>\n",
       "      <td>Deerfield, Illinois</td>\n",
       "    </tr>\n",
       "  </tbody>\n",
       "</table>\n",
       "</div>"
      ],
      "text/plain": [
       "   Rank                      Name                 Industry  \\\n",
       "26   27  Walgreens Boots Alliance  Pharmaceutical industry   \n",
       "\n",
       "   Revenue (USD millions) Revenue growth Employees         Headquarters  \n",
       "26                 132703          -10.7    262500  Deerfield, Illinois  "
      ]
     },
     "execution_count": 16,
     "metadata": {},
     "output_type": "execute_result"
    }
   ],
   "source": [
    "# Kiểm tra vị trí giá trị âm đã đúng chưa?\n",
    "Data_Frame[Data_Frame['Rank']=='27']"
   ]
  },
  {
   "cell_type": "code",
   "execution_count": 17,
   "id": "acac0dbe",
   "metadata": {},
   "outputs": [],
   "source": [
    "Data_Frame.rename(columns= {'Revenue growth':'Revenue growth (%)'}, inplace = True)"
   ]
  },
  {
   "cell_type": "code",
   "execution_count": 18,
   "id": "835c6b2e",
   "metadata": {},
   "outputs": [
    {
     "data": {
      "text/html": [
       "<div>\n",
       "<style scoped>\n",
       "    .dataframe tbody tr th:only-of-type {\n",
       "        vertical-align: middle;\n",
       "    }\n",
       "\n",
       "    .dataframe tbody tr th {\n",
       "        vertical-align: top;\n",
       "    }\n",
       "\n",
       "    .dataframe thead th {\n",
       "        text-align: right;\n",
       "    }\n",
       "</style>\n",
       "<table border=\"1\" class=\"dataframe\">\n",
       "  <thead>\n",
       "    <tr style=\"text-align: right;\">\n",
       "      <th></th>\n",
       "      <th>Rank</th>\n",
       "      <th>Name</th>\n",
       "      <th>Industry</th>\n",
       "      <th>Revenue (USD millions)</th>\n",
       "      <th>Revenue growth (%)</th>\n",
       "      <th>Employees</th>\n",
       "      <th>Headquarters</th>\n",
       "    </tr>\n",
       "  </thead>\n",
       "  <tbody>\n",
       "    <tr>\n",
       "      <th>0</th>\n",
       "      <td>1</td>\n",
       "      <td>Walmart</td>\n",
       "      <td>Retail</td>\n",
       "      <td>611289</td>\n",
       "      <td>6.7</td>\n",
       "      <td>2100000</td>\n",
       "      <td>Bentonville, Arkansas</td>\n",
       "    </tr>\n",
       "    <tr>\n",
       "      <th>1</th>\n",
       "      <td>2</td>\n",
       "      <td>Amazon</td>\n",
       "      <td>Retail and cloud computing</td>\n",
       "      <td>513983</td>\n",
       "      <td>9.4</td>\n",
       "      <td>1540000</td>\n",
       "      <td>Seattle, Washington</td>\n",
       "    </tr>\n",
       "    <tr>\n",
       "      <th>2</th>\n",
       "      <td>3</td>\n",
       "      <td>ExxonMobil</td>\n",
       "      <td>Petroleum industry</td>\n",
       "      <td>413680</td>\n",
       "      <td>44.8</td>\n",
       "      <td>62000</td>\n",
       "      <td>Spring, Texas</td>\n",
       "    </tr>\n",
       "    <tr>\n",
       "      <th>3</th>\n",
       "      <td>4</td>\n",
       "      <td>Apple</td>\n",
       "      <td>Electronics industry</td>\n",
       "      <td>394328</td>\n",
       "      <td>7.8</td>\n",
       "      <td>164000</td>\n",
       "      <td>Cupertino, California</td>\n",
       "    </tr>\n",
       "    <tr>\n",
       "      <th>4</th>\n",
       "      <td>5</td>\n",
       "      <td>UnitedHealth Group</td>\n",
       "      <td>Healthcare</td>\n",
       "      <td>324162</td>\n",
       "      <td>12.7</td>\n",
       "      <td>400000</td>\n",
       "      <td>Minnetonka, Minnesota</td>\n",
       "    </tr>\n",
       "  </tbody>\n",
       "</table>\n",
       "</div>"
      ],
      "text/plain": [
       "  Rank                Name                    Industry Revenue (USD millions)  \\\n",
       "0    1             Walmart                      Retail                 611289   \n",
       "1    2              Amazon  Retail and cloud computing                 513983   \n",
       "2    3          ExxonMobil          Petroleum industry                 413680   \n",
       "3    4               Apple        Electronics industry                 394328   \n",
       "4    5  UnitedHealth Group                  Healthcare                 324162   \n",
       "\n",
       "  Revenue growth (%) Employees           Headquarters  \n",
       "0                6.7   2100000  Bentonville, Arkansas  \n",
       "1                9.4   1540000    Seattle, Washington  \n",
       "2               44.8     62000          Spring, Texas  \n",
       "3                7.8    164000  Cupertino, California  \n",
       "4               12.7    400000  Minnetonka, Minnesota  "
      ]
     },
     "execution_count": 18,
     "metadata": {},
     "output_type": "execute_result"
    }
   ],
   "source": [
    "Data_Frame.head()"
   ]
  },
  {
   "cell_type": "code",
   "execution_count": 19,
   "id": "8f188e3d",
   "metadata": {},
   "outputs": [
    {
     "name": "stdout",
     "output_type": "stream",
     "text": [
      "<class 'pandas.core.frame.DataFrame'>\n",
      "Index: 100 entries, 0 to 99\n",
      "Data columns (total 7 columns):\n",
      " #   Column                  Non-Null Count  Dtype \n",
      "---  ------                  --------------  ----- \n",
      " 0   Rank                    100 non-null    object\n",
      " 1   Name                    100 non-null    object\n",
      " 2   Industry                100 non-null    object\n",
      " 3   Revenue (USD millions)  100 non-null    object\n",
      " 4   Revenue growth (%)      100 non-null    object\n",
      " 5   Employees               100 non-null    object\n",
      " 6   Headquarters            100 non-null    object\n",
      "dtypes: object(7)\n",
      "memory usage: 6.2+ KB\n"
     ]
    }
   ],
   "source": [
    "Data_Frame.info()"
   ]
  },
  {
   "cell_type": "code",
   "execution_count": 20,
   "id": "9c837a27",
   "metadata": {},
   "outputs": [],
   "source": [
    "# Đổi kiểu dữ liệu của Revenue (USD millions)\tRevenue growth (%)\tEmployees\n",
    "Data_Frame = Data_Frame.astype(dtype={'Revenue (USD millions)': np.float32, 'Revenue growth (%)': np.float32,'Employees':np.int64})"
   ]
  },
  {
   "cell_type": "code",
   "execution_count": 21,
   "id": "ccee5d06",
   "metadata": {},
   "outputs": [
    {
     "name": "stdout",
     "output_type": "stream",
     "text": [
      "<class 'pandas.core.frame.DataFrame'>\n",
      "Index: 100 entries, 0 to 99\n",
      "Data columns (total 7 columns):\n",
      " #   Column                  Non-Null Count  Dtype  \n",
      "---  ------                  --------------  -----  \n",
      " 0   Rank                    100 non-null    object \n",
      " 1   Name                    100 non-null    object \n",
      " 2   Industry                100 non-null    object \n",
      " 3   Revenue (USD millions)  100 non-null    float32\n",
      " 4   Revenue growth (%)      100 non-null    float32\n",
      " 5   Employees               100 non-null    int64  \n",
      " 6   Headquarters            100 non-null    object \n",
      "dtypes: float32(2), int64(1), object(4)\n",
      "memory usage: 5.5+ KB\n"
     ]
    }
   ],
   "source": [
    "Data_Frame.info()"
   ]
  },
  {
   "cell_type": "code",
   "execution_count": 22,
   "id": "4d358508",
   "metadata": {},
   "outputs": [
    {
     "data": {
      "text/html": [
       "<div>\n",
       "<style scoped>\n",
       "    .dataframe tbody tr th:only-of-type {\n",
       "        vertical-align: middle;\n",
       "    }\n",
       "\n",
       "    .dataframe tbody tr th {\n",
       "        vertical-align: top;\n",
       "    }\n",
       "\n",
       "    .dataframe thead th {\n",
       "        text-align: right;\n",
       "    }\n",
       "</style>\n",
       "<table border=\"1\" class=\"dataframe\">\n",
       "  <thead>\n",
       "    <tr style=\"text-align: right;\">\n",
       "      <th></th>\n",
       "      <th>Rank</th>\n",
       "      <th>Name</th>\n",
       "      <th>Industry</th>\n",
       "      <th>Revenue (USD millions)</th>\n",
       "      <th>Revenue growth (%)</th>\n",
       "      <th>Employees</th>\n",
       "      <th>Headquarters</th>\n",
       "    </tr>\n",
       "  </thead>\n",
       "  <tbody>\n",
       "    <tr>\n",
       "      <th>0</th>\n",
       "      <td>1</td>\n",
       "      <td>Walmart</td>\n",
       "      <td>Retail</td>\n",
       "      <td>611289.0</td>\n",
       "      <td>6.700000</td>\n",
       "      <td>2100000</td>\n",
       "      <td>Bentonville, Arkansas</td>\n",
       "    </tr>\n",
       "    <tr>\n",
       "      <th>1</th>\n",
       "      <td>2</td>\n",
       "      <td>Amazon</td>\n",
       "      <td>Retail and cloud computing</td>\n",
       "      <td>513983.0</td>\n",
       "      <td>9.400000</td>\n",
       "      <td>1540000</td>\n",
       "      <td>Seattle, Washington</td>\n",
       "    </tr>\n",
       "    <tr>\n",
       "      <th>2</th>\n",
       "      <td>3</td>\n",
       "      <td>ExxonMobil</td>\n",
       "      <td>Petroleum industry</td>\n",
       "      <td>413680.0</td>\n",
       "      <td>44.799999</td>\n",
       "      <td>62000</td>\n",
       "      <td>Spring, Texas</td>\n",
       "    </tr>\n",
       "    <tr>\n",
       "      <th>3</th>\n",
       "      <td>4</td>\n",
       "      <td>Apple</td>\n",
       "      <td>Electronics industry</td>\n",
       "      <td>394328.0</td>\n",
       "      <td>7.800000</td>\n",
       "      <td>164000</td>\n",
       "      <td>Cupertino, California</td>\n",
       "    </tr>\n",
       "    <tr>\n",
       "      <th>4</th>\n",
       "      <td>5</td>\n",
       "      <td>UnitedHealth Group</td>\n",
       "      <td>Healthcare</td>\n",
       "      <td>324162.0</td>\n",
       "      <td>12.700000</td>\n",
       "      <td>400000</td>\n",
       "      <td>Minnetonka, Minnesota</td>\n",
       "    </tr>\n",
       "  </tbody>\n",
       "</table>\n",
       "</div>"
      ],
      "text/plain": [
       "  Rank                Name                    Industry  \\\n",
       "0    1             Walmart                      Retail   \n",
       "1    2              Amazon  Retail and cloud computing   \n",
       "2    3          ExxonMobil          Petroleum industry   \n",
       "3    4               Apple        Electronics industry   \n",
       "4    5  UnitedHealth Group                  Healthcare   \n",
       "\n",
       "   Revenue (USD millions)  Revenue growth (%)  Employees  \\\n",
       "0                611289.0            6.700000    2100000   \n",
       "1                513983.0            9.400000    1540000   \n",
       "2                413680.0           44.799999      62000   \n",
       "3                394328.0            7.800000     164000   \n",
       "4                324162.0           12.700000     400000   \n",
       "\n",
       "            Headquarters  \n",
       "0  Bentonville, Arkansas  \n",
       "1    Seattle, Washington  \n",
       "2          Spring, Texas  \n",
       "3  Cupertino, California  \n",
       "4  Minnetonka, Minnesota  "
      ]
     },
     "execution_count": 22,
     "metadata": {},
     "output_type": "execute_result"
    }
   ],
   "source": [
    "Data_Frame.head()"
   ]
  },
  {
   "cell_type": "code",
   "execution_count": null,
   "id": "95262856",
   "metadata": {},
   "outputs": [],
   "source": []
  }
 ],
 "metadata": {
  "kernelspec": {
   "display_name": "Python 3 (ipykernel)",
   "language": "python",
   "name": "python3"
  },
  "language_info": {
   "codemirror_mode": {
    "name": "ipython",
    "version": 3
   },
   "file_extension": ".py",
   "mimetype": "text/x-python",
   "name": "python",
   "nbconvert_exporter": "python",
   "pygments_lexer": "ipython3",
   "version": "3.11.5"
  }
 },
 "nbformat": 4,
 "nbformat_minor": 5
}
